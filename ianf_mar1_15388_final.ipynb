{
 "cells": [
  {
   "cell_type": "markdown",
   "metadata": {
    "colab_type": "text",
    "id": "YBC1fA8VNirF"
   },
   "source": [
    "# Real Estate Value Estimation"
   ]
  },
  {
   "cell_type": "markdown",
   "metadata": {
    "colab_type": "text",
    "id": "Zvc88TatNt6x"
   },
   "source": [
    "Our goal for this project is to determine if the exterior appearance of a building has predictive power in determining the real estate value of a home. \n",
    "\n",
    "We started with Boston property assessment data, which contains many features which can be used to indicate the value of a home. To get an accurate picture of real market value, we scraped sale prices from zillow for a subset of the properties. We scraped Google Street View images for these properties and extracted 25 features which describe qualities of the home and added those features as predictor variables."
   ]
  },
  {
   "cell_type": "markdown",
   "metadata": {
    "colab_type": "text",
    "id": "Pg_SPzEJNCOP"
   },
   "source": [
    "# Boston Data\n",
    "\n",
    "We took a property assessment dataset from data.boston.gov [[source](https://data.boston.gov/dataset/property-assessment/resource/fd351943-c2c6-4630-992d-3f895360febd)]. This dataset contains information which the Boston municipality uses to gague value and set property taxes for buildings.\n",
    "\n",
    "We kept only the data for residential buildings to avoid inconsistencies across real estate markets, and removed many features which we deemed unnecessary for our purposes. We removed the city's appraised value because these values do not actually track market prices and can be skewed for any number of reasons. We also removed the given building style because we wanted to minimize the redunancy of information provided by the street view images.\n",
    "\n",
    "This dataset has features which primarily pertain to the building itself. Other than the zipcode, the data contains minimal information about the building's context, which determines much of the building's market value. The lack of information about location makes the value estimation task difficult, but we thought that street view images would give some information about context and would help to fill this gap."
   ]
  },
  {
   "cell_type": "code",
   "execution_count": 1,
   "metadata": {
    "colab": {
     "autoexec": {
      "startup": false,
      "wait_interval": 0
     }
    },
    "colab_type": "code",
    "id": "qZjUW8jOT0il"
   },
   "outputs": [],
   "source": [
    "import pandas as pd\n",
    "boston = pd.read_csv(\"ast2018full.csv\", dtype = {15:str,60:str,63:str})"
   ]
  },
  {
   "cell_type": "code",
   "execution_count": 2,
   "metadata": {
    "colab": {
     "autoexec": {
      "startup": false,
      "wait_interval": 0
     }
    },
    "colab_type": "code",
    "id": "VIoKAHIsY5PM"
   },
   "outputs": [
    {
     "data": {
      "text/html": [
       "<div>\n",
       "<style>\n",
       "    .dataframe thead tr:only-child th {\n",
       "        text-align: right;\n",
       "    }\n",
       "\n",
       "    .dataframe thead th {\n",
       "        text-align: left;\n",
       "    }\n",
       "\n",
       "    .dataframe tbody tr th {\n",
       "        vertical-align: top;\n",
       "    }\n",
       "</style>\n",
       "<table border=\"1\" class=\"dataframe\">\n",
       "  <thead>\n",
       "    <tr style=\"text-align: right;\">\n",
       "      <th></th>\n",
       "      <th>PID</th>\n",
       "      <th>CM_ID</th>\n",
       "      <th>GIS_ID</th>\n",
       "      <th>ST_NUM</th>\n",
       "      <th>ST_NAME</th>\n",
       "      <th>ST_NAME_SUF</th>\n",
       "      <th>UNIT_NUM</th>\n",
       "      <th>ZIPCODE</th>\n",
       "      <th>PTYPE</th>\n",
       "      <th>LU</th>\n",
       "      <th>...</th>\n",
       "      <th>U_BTH_STYLE2</th>\n",
       "      <th>U_BTH_STYLE3</th>\n",
       "      <th>U_KITCH_TYPE</th>\n",
       "      <th>U_KITCH_STYLE</th>\n",
       "      <th>U_HEAT_TYP</th>\n",
       "      <th>U_AC</th>\n",
       "      <th>U_FPLACE</th>\n",
       "      <th>U_INT_FIN</th>\n",
       "      <th>U_INT_CND</th>\n",
       "      <th>U_VIEW</th>\n",
       "    </tr>\n",
       "  </thead>\n",
       "  <tbody>\n",
       "    <tr>\n",
       "      <th>0</th>\n",
       "      <td>100001000</td>\n",
       "      <td>NaN</td>\n",
       "      <td>100001000.0</td>\n",
       "      <td>104 A 104</td>\n",
       "      <td>PUTNAM</td>\n",
       "      <td>ST</td>\n",
       "      <td>NaN</td>\n",
       "      <td>2128.0</td>\n",
       "      <td>105</td>\n",
       "      <td>R3</td>\n",
       "      <td>...</td>\n",
       "      <td>NaN</td>\n",
       "      <td>NaN</td>\n",
       "      <td>NaN</td>\n",
       "      <td>NaN</td>\n",
       "      <td>NaN</td>\n",
       "      <td>NaN</td>\n",
       "      <td>NaN</td>\n",
       "      <td>NaN</td>\n",
       "      <td>NaN</td>\n",
       "      <td>NaN</td>\n",
       "    </tr>\n",
       "    <tr>\n",
       "      <th>1</th>\n",
       "      <td>100002000</td>\n",
       "      <td>NaN</td>\n",
       "      <td>100002000.0</td>\n",
       "      <td>197</td>\n",
       "      <td>LEXINGTON</td>\n",
       "      <td>ST</td>\n",
       "      <td>NaN</td>\n",
       "      <td>2128.0</td>\n",
       "      <td>105</td>\n",
       "      <td>R3</td>\n",
       "      <td>...</td>\n",
       "      <td>NaN</td>\n",
       "      <td>NaN</td>\n",
       "      <td>NaN</td>\n",
       "      <td>NaN</td>\n",
       "      <td>NaN</td>\n",
       "      <td>NaN</td>\n",
       "      <td>NaN</td>\n",
       "      <td>NaN</td>\n",
       "      <td>NaN</td>\n",
       "      <td>NaN</td>\n",
       "    </tr>\n",
       "    <tr>\n",
       "      <th>2</th>\n",
       "      <td>100003000</td>\n",
       "      <td>NaN</td>\n",
       "      <td>100003000.0</td>\n",
       "      <td>199</td>\n",
       "      <td>LEXINGTON</td>\n",
       "      <td>ST</td>\n",
       "      <td>NaN</td>\n",
       "      <td>2128.0</td>\n",
       "      <td>105</td>\n",
       "      <td>R3</td>\n",
       "      <td>...</td>\n",
       "      <td>NaN</td>\n",
       "      <td>NaN</td>\n",
       "      <td>NaN</td>\n",
       "      <td>NaN</td>\n",
       "      <td>NaN</td>\n",
       "      <td>NaN</td>\n",
       "      <td>NaN</td>\n",
       "      <td>NaN</td>\n",
       "      <td>NaN</td>\n",
       "      <td>NaN</td>\n",
       "    </tr>\n",
       "    <tr>\n",
       "      <th>3</th>\n",
       "      <td>100004000</td>\n",
       "      <td>NaN</td>\n",
       "      <td>100004000.0</td>\n",
       "      <td>201</td>\n",
       "      <td>LEXINGTON</td>\n",
       "      <td>ST</td>\n",
       "      <td>NaN</td>\n",
       "      <td>2128.0</td>\n",
       "      <td>105</td>\n",
       "      <td>R3</td>\n",
       "      <td>...</td>\n",
       "      <td>NaN</td>\n",
       "      <td>NaN</td>\n",
       "      <td>NaN</td>\n",
       "      <td>NaN</td>\n",
       "      <td>NaN</td>\n",
       "      <td>NaN</td>\n",
       "      <td>NaN</td>\n",
       "      <td>NaN</td>\n",
       "      <td>NaN</td>\n",
       "      <td>NaN</td>\n",
       "    </tr>\n",
       "    <tr>\n",
       "      <th>4</th>\n",
       "      <td>100005000</td>\n",
       "      <td>NaN</td>\n",
       "      <td>100005000.0</td>\n",
       "      <td>203</td>\n",
       "      <td>LEXINGTON</td>\n",
       "      <td>ST</td>\n",
       "      <td>NaN</td>\n",
       "      <td>2128.0</td>\n",
       "      <td>104</td>\n",
       "      <td>R2</td>\n",
       "      <td>...</td>\n",
       "      <td>NaN</td>\n",
       "      <td>NaN</td>\n",
       "      <td>NaN</td>\n",
       "      <td>NaN</td>\n",
       "      <td>NaN</td>\n",
       "      <td>NaN</td>\n",
       "      <td>NaN</td>\n",
       "      <td>NaN</td>\n",
       "      <td>NaN</td>\n",
       "      <td>NaN</td>\n",
       "    </tr>\n",
       "  </tbody>\n",
       "</table>\n",
       "<p>5 rows × 75 columns</p>\n",
       "</div>"
      ],
      "text/plain": [
       "         PID  CM_ID       GIS_ID     ST_NUM    ST_NAME ST_NAME_SUF UNIT_NUM  \\\n",
       "0  100001000    NaN  100001000.0  104 A 104     PUTNAM          ST      NaN   \n",
       "1  100002000    NaN  100002000.0        197  LEXINGTON          ST      NaN   \n",
       "2  100003000    NaN  100003000.0        199  LEXINGTON          ST      NaN   \n",
       "3  100004000    NaN  100004000.0        201  LEXINGTON          ST      NaN   \n",
       "4  100005000    NaN  100005000.0        203  LEXINGTON          ST      NaN   \n",
       "\n",
       "   ZIPCODE  PTYPE  LU   ...   U_BTH_STYLE2 U_BTH_STYLE3 U_KITCH_TYPE  \\\n",
       "0   2128.0    105  R3   ...            NaN          NaN          NaN   \n",
       "1   2128.0    105  R3   ...            NaN          NaN          NaN   \n",
       "2   2128.0    105  R3   ...            NaN          NaN          NaN   \n",
       "3   2128.0    105  R3   ...            NaN          NaN          NaN   \n",
       "4   2128.0    104  R2   ...            NaN          NaN          NaN   \n",
       "\n",
       "  U_KITCH_STYLE U_HEAT_TYP U_AC  U_FPLACE  U_INT_FIN  U_INT_CND  U_VIEW  \n",
       "0           NaN        NaN  NaN       NaN        NaN        NaN     NaN  \n",
       "1           NaN        NaN  NaN       NaN        NaN        NaN     NaN  \n",
       "2           NaN        NaN  NaN       NaN        NaN        NaN     NaN  \n",
       "3           NaN        NaN  NaN       NaN        NaN        NaN     NaN  \n",
       "4           NaN        NaN  NaN       NaN        NaN        NaN     NaN  \n",
       "\n",
       "[5 rows x 75 columns]"
      ]
     },
     "execution_count": 2,
     "metadata": {},
     "output_type": "execute_result"
    }
   ],
   "source": [
    "boston.head()"
   ]
  },
  {
   "cell_type": "code",
   "execution_count": 3,
   "metadata": {
    "colab": {
     "autoexec": {
      "startup": false,
      "wait_interval": 0
     }
    },
    "colab_type": "code",
    "id": "1aVNNvbRZA07"
   },
   "outputs": [],
   "source": [
    "boston.LU = boston.LU.astype(\"category\")\n",
    "\n",
    "# Remove all data for non-residential buildings\n",
    "residential_category = [\"A\",\"CD\",\"R1\",\"R2\",\"R3\",\"R4\",\"RL\"]\n",
    "residential_bool = [True if x in residential_category else False for x in boston.LU]\n",
    "residential = boston[residential_bool]\n",
    "\n",
    "residential = residential.drop(labels = ['MAIL_ADDRESSEE', 'MAIL_ADDRESS', 'MAIL CS', \n",
    "                           'MAIL_ZIPCODE','PID', 'CM_ID', 'GIS_ID','OWNER',\n",
    "                           'S_BLDG_STYL', 'S_UNIT_RES', 'S_UNIT_COM',\n",
    "                           'S_UNIT_RC', 'S_EXT_FIN', 'S_EXT_CND'], \n",
    "                 axis = 1)"
   ]
  },
  {
   "cell_type": "code",
   "execution_count": 4,
   "metadata": {
    "colab": {
     "autoexec": {
      "startup": false,
      "wait_interval": 0
     }
    },
    "colab_type": "code",
    "id": "G6oE1a_SdXsC"
   },
   "outputs": [],
   "source": [
    "#removing rows and columns with only NA's\n",
    "residential = residential.dropna(axis = 1, how = \"all\") \n",
    "residential = residential.dropna(axis = 0, how = \"all\") "
   ]
  },
  {
   "cell_type": "markdown",
   "metadata": {
    "colab_type": "text",
    "id": "S9vLL4wDS0j9"
   },
   "source": [
    "After cleaning the data a bit, we need to create a way to easily access the street address so we can pull in other sources of data."
   ]
  },
  {
   "cell_type": "code",
   "execution_count": 5,
   "metadata": {
    "colab": {
     "autoexec": {
      "startup": false,
      "wait_interval": 0
     }
    },
    "colab_type": "code",
    "id": "N0MkfAWtddC2"
   },
   "outputs": [],
   "source": [
    "residential[\"ST_ADDRESS\"] = residential['ST_NUM'] + \" \" + residential['ST_NAME'] + \" \" + residential['ST_NAME_SUF']\n",
    "\n",
    "residential = residential.drop_duplicates(\"ST_ADDRESS\")"
   ]
  },
  {
   "cell_type": "markdown",
   "metadata": {
    "colab_type": "text",
    "id": "0_Ex6Zp6M6qG"
   },
   "source": [
    "# Scraping Zillow Data\n",
    "\n",
    "For scraping our Zillow response variables we used Chris Muir's Zillow's Scraper, which uses Python and Selenium to scrape Zillow postings [[source](https://github.com/ChrisMuir/Zillow)]. This code is contained in several files and opens new instances of Google Chrome, which cannot be done from a Jupyter notebook. Instead, we ran it locally and saved out csv files. We also cleaned the data in excel, which proved to be much faster and easier than doing it from Jupyter.\n",
    "\n",
    "We used the scraper to scrape sale prices for recently sold homes only, which kept issues of inflation from entering our data. We manually cleaned this data in excel, removing unrealistic sales prices, entries with missing data, and inconsistent address formats.\n",
    "\n",
    "The final csv holds around 2000 entries."
   ]
  },
  {
   "cell_type": "code",
   "execution_count": 6,
   "metadata": {
    "colab": {
     "autoexec": {
      "startup": false,
      "wait_interval": 0
     }
    },
    "colab_type": "code",
    "id": "PuaN48ndiSfn"
   },
   "outputs": [],
   "source": [
    "residential_zillow = pd.read_csv(\"residential_zillow.csv\")"
   ]
  },
  {
   "cell_type": "markdown",
   "metadata": {
    "colab_type": "text",
    "id": "WSoHJTJ6Lm0t"
   },
   "source": [
    "# Scraping Street View Data\n",
    "Using the Google Street View API, we acquired images from all the properties in our combined dataset. Scraping the images for the 2000 properties took around 3 minutes, but we then had to manually parse through all images and remove images where an invalid image was returned, the image did not contain a picture of the building, or the building was occluded by trees or trucks."
   ]
  },
  {
   "cell_type": "code",
   "execution_count": 9,
   "metadata": {
    "colab": {
     "autoexec": {
      "startup": false,
      "wait_interval": 0
     }
    },
    "colab_type": "code",
    "id": "qzbD2e7oLm0u"
   },
   "outputs": [],
   "source": [
    "import urllib, os\n",
    "count = 0\n",
    "saveDir = r\"streetView\"\n",
    "key = \"\" #redacted\n",
    "\n",
    "def GetSV (location):\n",
    "    base = \"https://maps.googleapis.com/maps/api/streetview?size=640x480&fov=90&location=\"\n",
    "    request = base + urllib.parse.quote_plus(location) + key\n",
    "    \n",
    "    # Name the image with the index \n",
    "    index = str(count) + \".jpg\"\n",
    "    urllib.request.urlretrieve(request, os.path.join(saveDir, index))\n",
    "\n",
    "for location in list(residential_zillow.ST_ADDRESS):\n",
    "    GetSV (location)\n",
    "    count += 1"
   ]
  },
  {
   "cell_type": "code",
   "execution_count": 13,
   "metadata": {
    "colab": {
     "autoexec": {
      "startup": false,
      "wait_interval": 0
     }
    },
    "colab_type": "code",
    "id": "ng315NFdqvkQ"
   },
   "outputs": [
    {
     "data": {
      "text/plain": [
       "<matplotlib.image.AxesImage at 0x2d0b4d24780>"
      ]
     },
     "execution_count": 13,
     "metadata": {},
     "output_type": "execute_result"
    },
    {
     "data": {
      "image/png": "[encoded data removed]",
      "text/plain": [
       "<matplotlib.figure.Figure at 0x2d0b4ce2ba8>"
      ]
     },
     "metadata": {},
     "output_type": "display_data"
    }
   ],
   "source": [
    "#Example Output\n",
    "from PIL import Image\n",
    "import matplotlib.pyplot as plt\n",
    "%matplotlib inline\n",
    "plt.style.use(\"ggplot\")\n",
    "im = Image.open(\"streetView/0.jpg\")\n",
    "plt.imshow(im)"
   ]
  },
  {
   "cell_type": "markdown",
   "metadata": {
    "colab_type": "text",
    "id": "L2oGB4w7s0gz"
   },
   "source": [
    "# Architectural Style Dataset"
   ]
  },
  {
   "cell_type": "markdown",
   "metadata": {
    "colab_type": "text",
    "id": "fCHfeP4ks4_J"
   },
   "source": [
    "In order to extract useful information about a building from an image, we need to train a machine leaning model to pick up on aspects buildings. One way to do this is to classify architectural style. \n",
    "\n",
    "For this, we found a labeled dataset [[source](https://drive.google.com/file/d/0Bwo0SFiZwl3JVGRlWGZUaW5va00/edit)] of 25 architectural styles. These architectural styles do not necessarily line up with the architectural styles from the street view images, but will capture common defining features, so we will simply use the probabilities of each style as an indicator for _some_ style. While this doesn't quite capture style, it does add some information about the underlying features of the 25 styles. \n",
    "\n",
    "We found that these raw probabilities had a higher correlation with the market value than the style classification itself."
   ]
  },
  {
   "cell_type": "markdown",
   "metadata": {
    "colab_type": "text",
    "id": "gbUOoSIZSiQm"
   },
   "source": [
    "# Processing Images"
   ]
  },
  {
   "cell_type": "code",
   "execution_count": 15,
   "metadata": {
    "colab": {
     "autoexec": {
      "startup": false,
      "wait_interval": 0
     }
    },
    "colab_type": "code",
    "id": "HiibgUPdSuNJ"
   },
   "outputs": [],
   "source": [
    "import keras\n",
    "from keras.applications.vgg19 import VGG19\n",
    "from keras.applications.vgg19 import preprocess_input\n",
    "import keras.preprocessing.image as KerasImage\n",
    "import sys"
   ]
  },
  {
   "cell_type": "markdown",
   "metadata": {
    "colab_type": "text",
    "id": "ROdh_6kPjGOo"
   },
   "source": [
    "We used the VGG19 model to process images.  The model can be downloaded through Keras with the weights pretrained on the imagenet dataset. You can read more about the model [here](https://arxiv.org/pdf/1409.1556.pdf). \n",
    "\n",
    "The model was originally trained to classify objects like cats and dogs, which isn't the task on hand. However, we can still use the model to process our images and output useful vectors.\n",
    "\n",
    "We can modify the model relatively easily with Keras, which allows us to strip the classifying layers from the model and use a custom input image vector to "
   ]
  },
  {
   "cell_type": "code",
   "execution_count": 16,
   "metadata": {
    "colab": {
     "autoexec": {
      "startup": false,
      "wait_interval": 0
     }
    },
    "colab_type": "code",
    "id": "seYbwDxVSydG"
   },
   "outputs": [],
   "source": [
    "model = VGG19(include_top=False, input_shape=(800,600,3))"
   ]
  },
  {
   "cell_type": "markdown",
   "metadata": {
    "colab_type": "text",
    "id": "C90A7WXqlXbg"
   },
   "source": [
    "The default model outputs a four dimensional array, so we'll have to flatten that into a 1d vector in order to properly interface with the outputs later on"
   ]
  },
  {
   "cell_type": "code",
   "execution_count": 17,
   "metadata": {
    "colab": {
     "autoexec": {
      "startup": false,
      "wait_interval": 0
     }
    },
    "colab_type": "code",
    "id": "rLQABNHjV9UG"
   },
   "outputs": [],
   "source": [
    "output = model.get_layer('block5_pool').output\n",
    "output = keras.layers.Flatten()(output)\n",
    "model = keras.models.Model(model.input, output)"
   ]
  },
  {
   "cell_type": "markdown",
   "metadata": {
    "colab_type": "text",
    "id": "FTQIVK1vng5M"
   },
   "source": [
    "Our architectural style dataset was organized such that each unique style classification had its own folder containing the images which belonged to that class. \n",
    "\n",
    "The following code traverses the parent folder, pushes each image through the VGG model, and labels the resulting vectors with the appropriate class."
   ]
  },
  {
   "cell_type": "code",
   "execution_count": 20,
   "metadata": {
    "colab": {
     "autoexec": {
      "startup": false,
      "wait_interval": 0
     }
    },
    "colab_type": "code",
    "id": "mHBK0mMCWcKm"
   },
   "outputs": [],
   "source": [
    "# Open the specified folder and get all the subdirectories\n",
    "dname = \"D:\\\\DataScience\\\\arcDataset\"\n",
    "sdnames = os.listdir(dname)\n",
    "\n",
    "# Set up dummy arrays to hold the processed features and labels \n",
    "y = np.array([-1])\n",
    "X = np.array([i for i in range(230400)])\n",
    "\n",
    "count = 0\n",
    "\n",
    "for i in range(len(sdnames):\n",
    "    sdname = sdnames[i] + '/'\n",
    "               \n",
    "    # Ignore non-directory files \n",
    "    try: fnames = os.listdir(dname + sdname)\n",
    "    except: continue\n",
    "               \n",
    "    for j in range(len(fnames)):\n",
    "        fname = dname + sdname + fnames[j]\n",
    "        \n",
    "        # Ignore non-image files\n",
    "        try: im = KerasImage.load_img(fname, target_size=(800,600))\n",
    "        except: continue\n",
    "               \n",
    "        # Print out a message to show progression \n",
    "        count += 1\n",
    "        sys.stdout.write(\"\\rsdir: \" + str(i) + \" im: \" + str(j))\n",
    "        sys.stdout.flush()\n",
    "               \n",
    "        # Format image properly\n",
    "        im = KerasImage.img_to_array(im)\n",
    "        im = np.expand_dims(im, axis=0)\n",
    "        \n",
    "        # Push image through the model\n",
    "        im = preprocess_input(im)\n",
    "        im = model.predict(im)\n",
    "        \n",
    "        # Correct shape of output vector\n",
    "        im = np.squeeze(im)\n",
    "        \n",
    "        # Add vector to X and label to y\n",
    "        X = np.append(X, im, axis=0)\n",
    "        y = np.append(y, np.array([i]), axis=0)\n",
    "\n",
    "# Delete the placeholder vectors\n",
    "X = np.delete(X, range(230400), axis=0)\n",
    "y = np.delete(y, 0, axis=0)\n",
    "\n",
    "# Reshape the features               \n",
    "X = X.reshape(count, 230400)"
   ]
  },
  {
   "cell_type": "markdown",
   "metadata": {
    "colab_type": "text",
    "id": "Ma2OTEvvqUXz"
   },
   "source": [
    "We went through a similar process for our street view images. The code is nearly identical, just with a few lines commented out because the data was unlabeled and because we did not need to traverse a file structure in the same way. We've omitted this code for the sake of brevity.\n",
    "\n",
    "\n",
    "To avoid unneccessarily running this compute-heavy code, we saved out the results as pickle files, which we loaded as necessary."
   ]
  },
  {
   "cell_type": "markdown",
   "metadata": {
    "colab_type": "text",
    "id": "tZLozmnssCC9"
   },
   "source": [
    "#Logistic Regression for Style Classification"
   ]
  },
  {
   "cell_type": "markdown",
   "metadata": {
    "colab_type": "text",
    "id": "S-4jlV0ksikx"
   },
   "source": [
    "We took the 230,400 feature vectors output from VGG19 and trained a logistic regression model on the architectural style dataset to classify style. We then used the trained model to output the raw class probabilities of the street view images."
   ]
  },
  {
   "cell_type": "code",
   "execution_count": 21,
   "metadata": {
    "colab": {
     "autoexec": {
      "startup": false,
      "wait_interval": 0
     }
    },
    "colab_type": "code",
    "id": "Mfijp6UGLm0d"
   },
   "outputs": [],
   "source": [
    "import numpy as np\n",
    "import pickle\n",
    "from sklearn.model_selection import train_test_split\n",
    "from sklearn.linear_model import LogisticRegression as LR\n",
    "from sklearn.ensemble import GradientBoostingRegressor\n",
    "import scipy.stats"
   ]
  },
  {
   "cell_type": "code",
   "execution_count": 22,
   "metadata": {
    "colab": {
     "autoexec": {
      "startup": false,
      "wait_interval": 0
     }
    },
    "colab_type": "code",
    "id": "2aqmItCoP_Jz"
   },
   "outputs": [],
   "source": [
    "with open('arcDataX.pickle', 'rb') as file:\n",
    "    X = pickle.load(file)\n",
    "with open('arcDatay.pickle', 'rb') as file:\n",
    "    y = pickle.load(file)"
   ]
  },
  {
   "cell_type": "code",
   "execution_count": 23,
   "metadata": {
    "colab": {
     "autoexec": {
      "startup": false,
      "wait_interval": 0
     }
    },
    "colab_type": "code",
    "id": "xKO2xCaVLm0j"
   },
   "outputs": [],
   "source": [
    "# Split the data into train, validate, and test sets\n",
    "X_arctr, X_arctest, y_arctr, y_arctest = train_test_split(X, y, test_size=0.3, random_state=5)\n",
    "X_arctest, X_arcval, y_arctest, y_arcval = train_test_split(X_arctest, y_arctest, test_size=0.5, random_state=5)"
   ]
  },
  {
   "cell_type": "markdown",
   "metadata": {
    "colab_type": "text",
    "id": "Zu7AtML38fcD"
   },
   "source": [
    "The logistic regression gave a reasonably good fit without modifying much. In the end, since we aren't _really_ classifying architectural style, this seemed reasonable enough to leave as is."
   ]
  },
  {
   "cell_type": "code",
   "execution_count": 24,
   "metadata": {
    "colab": {
     "autoexec": {
      "startup": false,
      "wait_interval": 0
     }
    },
    "colab_type": "code",
    "id": "m_4Bv6I-Lm0m",
    "outputId": "d9ac05d3-d726-43b8-8b90-60cdbab89413"
   },
   "outputs": [
    {
     "data": {
      "text/plain": [
       "LogisticRegression(C=1.0, class_weight=None, dual=False, fit_intercept=True,\n",
       "          intercept_scaling=1, max_iter=3000, multi_class='ovr', n_jobs=1,\n",
       "          penalty='l2', random_state=0, solver='liblinear', tol=0.0001,\n",
       "          verbose=0, warm_start=False)"
      ]
     },
     "execution_count": 24,
     "metadata": {},
     "output_type": "execute_result"
    }
   ],
   "source": [
    "model_arc = LR(random_state = 0, dual=False, max_iter=3000)\n",
    "model_arc.fit(X_arctr, y_arctr)"
   ]
  },
  {
   "cell_type": "code",
   "execution_count": 29,
   "metadata": {},
   "outputs": [
    {
     "data": {
      "text/plain": [
       "0.702928870292887"
      ]
     },
     "execution_count": 29,
     "metadata": {},
     "output_type": "execute_result"
    }
   ],
   "source": [
    "model_arc.score(X_arcval, y_arcval)"
   ]
  },
  {
   "cell_type": "markdown",
   "metadata": {
    "colab_type": "text",
    "id": "pnK6LZ30MAXV"
   },
   "source": [
    "# Adding Features to Original Dataset"
   ]
  },
  {
   "cell_type": "markdown",
   "metadata": {
    "colab_type": "text",
    "id": "DOXvxNHYQlUC"
   },
   "source": [
    "Now that we have our logistic regression model trained, we need to combine all of our features."
   ]
  },
  {
   "cell_type": "code",
   "execution_count": 30,
   "metadata": {
    "colab": {
     "autoexec": {
      "startup": false,
      "wait_interval": 0
     }
    },
    "colab_type": "code",
    "id": "zDiaMJ-8Lm0w"
   },
   "outputs": [],
   "source": [
    "# Load VGG19 outputs for street view images\n",
    "import pickle\n",
    "with open('streetViewX.pickle', 'rb') as file:\n",
    "    X_SV = pickle.load(file)\n",
    "with open('streetViewy.pickle', 'rb') as file:\n",
    "    y_SV = pickle.load(file)"
   ]
  },
  {
   "cell_type": "markdown",
   "metadata": {
    "colab_type": "text",
    "id": "V65X-kUYSEQV"
   },
   "source": [
    "After sifting through the street view images, we came across a number that were not useful for our purposes. Since this happened outside of the scope of our Jupyter notebook, we need to make sure we are only operating on entries with valid street view data."
   ]
  },
  {
   "cell_type": "code",
   "execution_count": 31,
   "metadata": {
    "colab": {
     "autoexec": {
      "startup": false,
      "wait_interval": 0
     }
    },
    "colab_type": "code",
    "id": "ix6fvrV0Lm01"
   },
   "outputs": [],
   "source": [
    "# Indexed with valid images\n",
    "df_final = residential_zillow.iloc()[y_SV.astype(int)]"
   ]
  },
  {
   "cell_type": "markdown",
   "metadata": {
    "colab_type": "text",
    "id": "EMYv6MkDSjzE"
   },
   "source": [
    "Now we need to get the 25 style classification probabilities and insert them as features in our dataset."
   ]
  },
  {
   "cell_type": "code",
   "execution_count": 32,
   "metadata": {
    "colab": {
     "autoexec": {
      "startup": false,
      "wait_interval": 0
     }
    },
    "colab_type": "code",
    "id": "Fg3I8wAOLm04"
   },
   "outputs": [],
   "source": [
    "# Run the logistic regression model on the street view images\n",
    "X_SVC = model_arc.predict_proba(X_SV)\n",
    "\n",
    "X_SVCdf = pd.DataFrame(data=X_SVC, index=y_SV);\n",
    "X_SVCdf.index = X_SVCdf.index.astype(int)\n",
    "df_final = pd.concat([df_final, X_SVCdf], axis=1)"
   ]
  },
  {
   "cell_type": "markdown",
   "metadata": {
    "colab_type": "text",
    "id": "iGj1UztVVOju"
   },
   "source": [
    "And now some final data cleaning.."
   ]
  },
  {
   "cell_type": "code",
   "execution_count": 33,
   "metadata": {
    "colab": {
     "autoexec": {
      "startup": false,
      "wait_interval": 0
     }
    },
    "colab_type": "code",
    "id": "X6aIozmiLm07"
   },
   "outputs": [],
   "source": [
    "y_final = df_final['SALE_PRICE']\n",
    "\n",
    "X_final = df_final.drop('SALE_PRICE', axis=1)\n",
    "X_final = X_final.drop(['ST_NUM', 'ST_NAME', 'ST_NAME_SUF', 'AV_LAND', 'AV_BLDG', 'AV_TOTAL', 'GROSS_TAX', 'ST_ADDRESS','PTYPE'], axis=1)\n",
    "\n",
    "X_final = pd.get_dummies(X_final, columns=['R_BLDG_STYL','LU','OWN_OCC','STRUCTURE_CLASS','R_ROOF_TYP','R_EXT_FIN','R_EXT_CND','R_BTH_STYLE',\\\n",
    "                                           'R_BTH_STYLE2','R_BTH_STYLE3','R_KITCH_STYLE','R_KITCH_STYLE2','R_KITCH_STYLE3','R_HEAT_TYP','R_AC',\\\n",
    "                                           'R_OVRALL_CND','R_INT_CND','R_INT_FIN','R_VIEW'])\n",
    "\n",
    "X_final = X_final.astype(np.float32).fillna(0)\n",
    "\n",
    "X_final = X_final.drop('Unnamed: 0', axis=1).reset_index(drop=True)\n",
    "y_final = y_final.reset_index(drop=True)"
   ]
  },
  {
   "cell_type": "markdown",
   "metadata": {},
   "source": [
    "As we can see below, the features from the street view images are the most highly correlated with the market value of the homes."
   ]
  },
  {
   "cell_type": "code",
   "execution_count": 39,
   "metadata": {
    "colab": {
     "autoexec": {
      "startup": false,
      "wait_interval": 0
     }
    },
    "colab_type": "code",
    "id": "RFxbSiRhLm1A",
    "outputId": "0a328f64-77fb-4f35-8377-2624e5cd0a41"
   },
   "outputs": [
    {
     "data": {
      "text/plain": [
       "{'ZIPCODE': 0.07971393541609594,\n",
       " 'LAND_SF': 0.2631687906272019,\n",
       " 'YR_BUILT': 0.05311764283932073,\n",
       " 'YR_REMOD': 0.06051883542046775,\n",
       " 'GROSS_AREA': 0.3015674236221527,\n",
       " 'LIVING_AREA': 0.30326966982892256,\n",
       " 'NUM_FLOORS': 0.07215304998592013,\n",
       " 'R_TOTAL_RMS': -0.009427871194288392,\n",
       " 'R_BDRMS': -0.014479246075251485,\n",
       " 'R_FULL_BTH': 0.013468400044047472,\n",
       " 'R_HALF_BTH': 0.005019064686026373,\n",
       " 'R_KITCH': -0.05505407841310702,\n",
       " 'R_FPLACE': 0.07862457812650979,\n",
       " 0: 0.37145694930873796,\n",
       " 1: 0.37145694930873796,\n",
       " 2: 0.37145694930873796,\n",
       " 3: 0.37145694930873796,\n",
       " 4: 0.37145694930873796,\n",
       " 5: 0.37145694930873796,\n",
       " 6: 0.37145694930873796,\n",
       " 7: 0.37145694930873796,\n",
       " 8: 0.37145694930873796,\n",
       " 9: 0.37145694930873796,\n",
       " 10: 0.37145694930873796,\n",
       " 11: 0.37145694930873796,\n",
       " 12: 0.37145694930873796,\n",
       " 13: 0.37145694930873796,\n",
       " 14: 0.37145694930873796,\n",
       " 15: 0.37145694930873796,\n",
       " 16: 0.37145694930873796,\n",
       " 17: 0.37145694930873796,\n",
       " 18: 0.37145694930873796,\n",
       " 19: 0.37145694930873796,\n",
       " 20: 0.37145694930873796,\n",
       " 21: 0.37145694930873796,\n",
       " 22: 0.37145694930873796,\n",
       " 23: 0.37145694930873796,\n",
       " 24: 0.37145694930873796,\n",
       " 'R_BLDG_STYL_BW': -0.02680352941285158,\n",
       " 'R_BLDG_STYL_CL': -0.006007669582327519,\n",
       " 'R_BLDG_STYL_CP': 0.016268052211822943,\n",
       " 'R_BLDG_STYL_CV': -0.01843672400314714,\n",
       " 'R_BLDG_STYL_DK': -0.0724564326044824,\n",
       " 'R_BLDG_STYL_DX': -0.03736712098466963,\n",
       " 'R_BLDG_STYL_RE': -0.036313765018509574,\n",
       " 'R_BLDG_STYL_RM': 0.06378255064512625,\n",
       " 'R_BLDG_STYL_RN': 0.05312723349687139,\n",
       " 'R_BLDG_STYL_RR': 0.03129302007093377,\n",
       " 'R_BLDG_STYL_SD': 0.015722207551074174,\n",
       " 'R_BLDG_STYL_SL': -0.011165310135480415,\n",
       " 'R_BLDG_STYL_TF': -0.02122647992418804,\n",
       " 'R_BLDG_STYL_VT': 0.027597391014773605,\n",
       " 'LU_R1': -0.05713938572926722,\n",
       " 'LU_R2': -0.00919811255116305,\n",
       " 'LU_R3': -0.05873782503347434,\n",
       " 'OWN_OCC_N': -0.022599918469754284,\n",
       " 'OWN_OCC_Y': -0.022599918469754284,\n",
       " 'STRUCTURE_CLASS_C': 0.007368174140618366,\n",
       " 'STRUCTURE_CLASS_D': 0.03516189061953467,\n",
       " 'STRUCTURE_CLASS_R': 0.06752035144996375,\n",
       " 'R_ROOF_TYP_F': 0.019805785766278054,\n",
       " 'R_ROOF_TYP_G': 0.024869034516410923,\n",
       " 'R_ROOF_TYP_H': -0.016920007555566923,\n",
       " 'R_ROOF_TYP_L': -0.04334412083114392,\n",
       " 'R_ROOF_TYP_M': 0.04934348149063373,\n",
       " 'R_ROOF_TYP_S': -0.007931636902415613,\n",
       " 'R_EXT_FIN_A': -0.0006665347107636347,\n",
       " 'R_EXT_FIN_B': 0.0868729730371048,\n",
       " 'R_EXT_FIN_C': 0.03597614316009853,\n",
       " 'R_EXT_FIN_F': 0.06447354145220105,\n",
       " 'R_EXT_FIN_M': -0.0579490865542106,\n",
       " 'R_EXT_FIN_P': -0.04763533553687385,\n",
       " 'R_EXT_FIN_S': 0.013362438387354797,\n",
       " 'R_EXT_FIN_U': -0.04284604321371235,\n",
       " 'R_EXT_FIN_V': 0.008395512029380645,\n",
       " 'R_EXT_FIN_W': -0.02791510438438467,\n",
       " 'R_EXT_CND_A': 0.04109057287970363,\n",
       " 'R_EXT_CND_E': 0.03411403972369357,\n",
       " 'R_EXT_CND_F': 0.015061045812868766,\n",
       " 'R_EXT_CND_G': 0.0355575048312534,\n",
       " 'R_EXT_CND_P': -0.025671443881693113,\n",
       " 'R_BTH_STYLE_L': 0.07088489398585447,\n",
       " 'R_BTH_STYLE_M': 0.0011622243880994262,\n",
       " 'R_BTH_STYLE_N': -0.034345637521492334,\n",
       " 'R_BTH_STYLE_S': -0.005183409154717507,\n",
       " 'R_BTH_STYLE2_L': 0.007972694324968367,\n",
       " 'R_BTH_STYLE2_M': -0.023345427057393203,\n",
       " 'R_BTH_STYLE2_N': -0.048882795719400136,\n",
       " 'R_BTH_STYLE2_S': -0.047566619193301116,\n",
       " 'R_BTH_STYLE3_L': -0.004405099988713206,\n",
       " 'R_BTH_STYLE3_M': -0.05724962096085238,\n",
       " 'R_BTH_STYLE3_N': -0.03994939167403604,\n",
       " 'R_BTH_STYLE3_S': -0.06076908655325854,\n",
       " 'R_KITCH_STYLE_L': 0.058530438362308736,\n",
       " 'R_KITCH_STYLE_M': -0.010479583159902281,\n",
       " 'R_KITCH_STYLE_N': -0.027843276739329327,\n",
       " 'R_KITCH_STYLE_S': -0.019154664354948506,\n",
       " 'R_KITCH_STYLE2_L': -0.033498315932628114,\n",
       " 'R_KITCH_STYLE2_M': 0.023241885459074765,\n",
       " 'R_KITCH_STYLE2_N': -0.019711422341534078,\n",
       " 'R_KITCH_STYLE2_S': -0.053812607420194725,\n",
       " 'R_KITCH_STYLE3_L': -0.008577649673263599,\n",
       " 'R_KITCH_STYLE3_M': 0.0035460071959928863,\n",
       " 'R_KITCH_STYLE3_N': -0.0345220196120603,\n",
       " 'R_KITCH_STYLE3_S': -0.056608111783474316,\n",
       " 'R_HEAT_TYP_E': -0.02217456765035265,\n",
       " 'R_HEAT_TYP_F': 0.013484006508827147,\n",
       " 'R_HEAT_TYP_N': -0.019900926665823875,\n",
       " 'R_HEAT_TYP_O': -0.024672548328481304,\n",
       " 'R_HEAT_TYP_P': -0.0029738100118996058,\n",
       " 'R_HEAT_TYP_S': -0.03553011635785933,\n",
       " 'R_HEAT_TYP_W': -0.004736683356549664,\n",
       " 'R_AC_C': 0.0788086773435516,\n",
       " 'R_AC_D': -0.02887297994772794,\n",
       " 'R_AC_N': 0.07253377904219374,\n",
       " 'R_OVRALL_CND_A': 0.04718284678298919,\n",
       " 'R_OVRALL_CND_E': 0.07035222935972636,\n",
       " 'R_OVRALL_CND_F': 0.0023412159121045987,\n",
       " 'R_OVRALL_CND_G': 0.02779893828249976,\n",
       " 'R_OVRALL_CND_P': -0.009365198509590403,\n",
       " 'R_INT_CND_A': -0.041117908519850546,\n",
       " 'R_INT_CND_E': 0.08297260049786119,\n",
       " 'R_INT_CND_F': 0.023095164800365383,\n",
       " 'R_INT_CND_G': -0.009476583443461606,\n",
       " 'R_INT_CND_P': -0.009365198509590403,\n",
       " 'R_INT_FIN_E': 0.10028591001817652,\n",
       " 'R_INT_FIN_N': 0.10028591001817652,\n",
       " 'R_VIEW_A': 0.0011325188753131712,\n",
       " 'R_VIEW_E': 0.012223396102016101,\n",
       " 'R_VIEW_F': -0.004389145339553322,\n",
       " 'R_VIEW_G': 0.014428252422864545,\n",
       " 'R_VIEW_P': -0.03414749153482487,\n",
       " 'Value': 1.0}"
      ]
     },
     "execution_count": 39,
     "metadata": {},
     "output_type": "execute_result"
    }
   ],
   "source": [
    "# Print the pearson correlation of the market value and all features in the X_final dataframe\n",
    "dict(X_final.assign(Value=y_final.squeeze()).apply(lambda x : pd.factorize(x)[0]).corr(method='pearson')['Value'])"
   ]
  },
  {
   "cell_type": "code",
   "execution_count": 40,
   "metadata": {
    "colab": {
     "autoexec": {
      "startup": false,
      "wait_interval": 0
     }
    },
    "colab_type": "code",
    "id": "0-Z_AIO1Lm1F"
   },
   "outputs": [],
   "source": [
    "# Split into train, validate, and test sets\n",
    "X_finaltr, X_finaltest, y_finaltr, y_finaltest = train_test_split(X_final, y_final, test_size=0.3, random_state=5)\n",
    "X_finaltest, X_finalval, y_finaltest, y_finalval = train_test_split(X_finaltest, y_finaltest, test_size=0.5, random_state=5)"
   ]
  },
  {
   "cell_type": "markdown",
   "metadata": {},
   "source": [
    "We'll also want to drop the features taken from the street view images and use the remaining data as a baseline test"
   ]
  },
  {
   "cell_type": "code",
   "execution_count": 43,
   "metadata": {
    "colab": {
     "autoexec": {
      "startup": false,
      "wait_interval": 0
     }
    },
    "colab_type": "code",
    "id": "EyxpCYbGLm1Q"
   },
   "outputs": [],
   "source": [
    "X_nSV = X_final.drop(labels=list(range(25)), axis=1)\n",
    "y_nSV = y_final"
   ]
  },
  {
   "cell_type": "code",
   "execution_count": 44,
   "metadata": {
    "colab": {
     "autoexec": {
      "startup": false,
      "wait_interval": 0
     }
    },
    "colab_type": "code",
    "id": "ft9nHkjKLm1S"
   },
   "outputs": [],
   "source": [
    "X_nSVtr, X_nSVtest, y_nSVtr, y_nSVtest = train_test_split(X_nSV, y_nSV, test_size=0.3, random_state=5)\n",
    "X_nSVtest, X_nSVval, y_nSVtest, y_nSVval = train_test_split(X_nSVtest, y_nSVtest, test_size=0.5, random_state=5)"
   ]
  },
  {
   "cell_type": "markdown",
   "metadata": {
    "colab_type": "text",
    "id": "0LaYS6tEMdrd"
   },
   "source": [
    "## Cross-Validating Hyperparameters\n",
    "\n",
    "We applied cross validation on our Gradient Boosting Regressor model to acquire the best parameters. Below we show an example but when we were finding the best parameters we ran 5 trials for each value we wanted to try. We applied cross validation on n_estimators, loss, learning_rate, max_depth, subsample, and alpha. For each parameter we took the value that resulted with the best score and added it to our model as we continue testing through the rest of our parameters."
   ]
  },
  {
   "cell_type": "code",
   "execution_count": 45,
   "metadata": {
    "colab": {
     "autoexec": {
      "startup": false,
      "wait_interval": 0
     }
    },
    "colab_type": "code",
    "id": "DMMWGobtThTV"
   },
   "outputs": [],
   "source": [
    "from sklearn.ensemble import GradientBoostingRegressor\n",
    "from sklearn.metrics import mean_squared_error as mse"
   ]
  },
  {
   "cell_type": "code",
   "execution_count": 46,
   "metadata": {
    "colab": {
     "autoexec": {
      "startup": false,
      "wait_interval": 0
     }
    },
    "colab_type": "code",
    "id": "mW-Pi4-ELm1H",
    "outputId": "90bbbfb3-9638-446c-dc88-636dd24cd2ae"
   },
   "outputs": [],
   "source": [
    "to_try = [2,3,1]\n",
    "numTrials = 5\n",
    "best = 0\n",
    "bestVal = 0\n",
    "for val in to_try: \n",
    "    score = 0\n",
    "    for i in range(numTrials):\n",
    "        GBR = GradientBoostingRegressor(n_estimators = 2000, loss='quantile', learning_rate=.014, max_depth=2,\\\n",
    "                                    subsample=.99,alpha=.89)\n",
    "        GBR.fit(X_nSVtr, y_nSVtr.squeeze())\n",
    "        curScore = GBR.score(X_nSVval, y_nSVval.squeeze())\n",
    "        score += curScore\n",
    "        print(\"testing \" + str(val) + \" - score: \" + str(curScore))\n",
    "    score /= 3\n",
    "    print(\"avg for \" + str(val) + \": \" + str(score))\n",
    "    if score > best: \n",
    "        best = score\n",
    "        bestVal = val\n",
    "print(\"best choice is: \" + str(bestVal))"
   ]
  },
  {
   "cell_type": "markdown",
   "metadata": {
    "colab_type": "text",
    "id": "SjSHhYKSTZF7"
   },
   "source": [
    "# Gradient Boosted Regressor"
   ]
  },
  {
   "cell_type": "code",
   "execution_count": 57,
   "metadata": {},
   "outputs": [
    {
     "data": {
      "text/plain": [
       "0.7874182918407084"
      ]
     },
     "execution_count": 57,
     "metadata": {},
     "output_type": "execute_result"
    }
   ],
   "source": [
    "GBR = GradientBoostingRegressor(n_estimators = 2000, loss='quantile', learning_rate=.014, max_depth=2,\\\n",
    "                            subsample=.99,alpha=.89)\n",
    "GBR.fit(X_finaltr, y_finaltr.squeeze())\n",
    "GBR.score(X_finalval, y_finalval.squeeze())"
   ]
  },
  {
   "cell_type": "code",
   "execution_count": 52,
   "metadata": {
    "colab": {
     "autoexec": {
      "startup": false,
      "wait_interval": 0
     }
    },
    "colab_type": "code",
    "id": "y7XJ4aMxLm1W",
    "outputId": "63a267c9-8b56-42b1-e337-e5887d602a9d"
   },
   "outputs": [
    {
     "data": {
      "text/plain": [
       "0.3697081772029398"
      ]
     },
     "execution_count": 52,
     "metadata": {},
     "output_type": "execute_result"
    }
   ],
   "source": [
    "GBRnSV = GradientBoostingRegressor(n_estimators = 2000, loss='quantile', learning_rate=.014, max_depth=2,\\\n",
    "                                    subsample=.99,alpha=.89)\n",
    "GBRnSV.fit(X_nSVtr, y_nSVtr)\n",
    "\n",
    "GBRnSV.score(X_nSVval, y_nSVval.squeeze())"
   ]
  },
  {
   "cell_type": "code",
   "execution_count": 55,
   "metadata": {},
   "outputs": [
    {
     "data": {
      "text/plain": [
       "0.8005829865674475"
      ]
     },
     "execution_count": 55,
     "metadata": {},
     "output_type": "execute_result"
    }
   ],
   "source": [
    "GBR.score(X_finaltest, y_finaltest.squeeze())"
   ]
  },
  {
   "cell_type": "code",
   "execution_count": 63,
   "metadata": {
    "colab": {
     "autoexec": {
      "startup": false,
      "wait_interval": 0
     }
    },
    "colab_type": "code",
    "id": "qH7kdLUbT3EZ"
   },
   "outputs": [
    {
     "name": "stdout",
     "output_type": "stream",
     "text": [
      "MSE with street view:    240147479298.47305\n",
      "MSE without street view: 712022656030.8505\n"
     ]
    }
   ],
   "source": [
    "print(\"MSE with street view:\" + \"    \" + str(mse(y_finalval.squeeze(), GBR.predict(X_finalval))))\n",
    "print(\"MSE without street view: \" + str(mse(y_nSVval.squeeze(), GBRnSV.predict(X_nSVval))))"
   ]
  },
  {
   "cell_type": "markdown",
   "metadata": {
    "colab_type": "text",
    "id": "w3SBYoxsQamw"
   },
   "source": [
    "Below we run Kruskal-Wallis H-Test to further analyze our model's output. We compare our predicted values and the true values to determine if they achieved similar population medians. The predicted values and the true values for both models, with Street View and without Streeet View, differ significantly with p-values smaller than 0.0001. However, the population medians of our predictions from the model with Street View and without Street View do not significantly differ."
   ]
  },
  {
   "cell_type": "code",
   "execution_count": 75,
   "metadata": {},
   "outputs": [
    {
     "name": "stdout",
     "output_type": "stream",
     "text": [
      "KruskalResult(statistic=93.19644728214197, pvalue=4.735303831197981e-22)\n",
      "KruskalResult(statistic=95.7527243278832, pvalue=1.3016725348993482e-22)\n",
      "KruskalResult(statistic=0.1309185063230691, pvalue=0.7174815946761984)\n"
     ]
    }
   ],
   "source": [
    "print(scipy.stats.kruskal(GBRnSV.predict(X_nSVtest), y_nSVtest))\n",
    "print(scipy.stats.kruskal(GBR.predict(X_finaltest),y_finaltest))\n",
    "print(scipy.stats.kruskal(GBR.predict(X_finaltest),GBRnSV.predict(X_nSVtest)))"
   ]
  },
  {
   "cell_type": "code",
   "execution_count": 76,
   "metadata": {
    "colab": {
     "autoexec": {
      "startup": false,
      "wait_interval": 0
     }
    },
    "colab_type": "code",
    "id": "f-fGlMhrLm1j",
    "outputId": "42ceb60b-3d37-4e89-ee39-aa5c85ff298c"
   },
   "outputs": [
    {
     "data": {
      "text/plain": [
       "KruskalResult(statistic=875787.2142043461, pvalue=0.0)"
      ]
     },
     "execution_count": 76,
     "metadata": {},
     "output_type": "execute_result"
    }
   ],
   "source": [
    "scipy.stats.kruskal((GBRnSV.predict(X_nSVtest), y_nSVtest),(y_finaltest,y_finaltest))"
   ]
  },
  {
   "cell_type": "markdown",
   "metadata": {},
   "source": [
    "# Conclusion"
   ]
  },
  {
   "cell_type": "markdown",
   "metadata": {},
   "source": [
    "Our model can more accurately predict a property's Sale Value when provided information acquired from Google Street View images. The model goes from approximately 36% accuracy to approximately 79% accurracy when Street View images are included. When we look at the specific correlations between Street View Images and our response variable Value we see that the Street View Images have the highest correlation with Value."
   ]
  }
 ],
 "metadata": {
  "colab": {
   "collapsed_sections": [],
   "default_view": {},
   "name": "Final.ipynb",
   "provenance": [],
   "version": "0.3.2",
   "views": {}
  },
  "kernelspec": {
   "display_name": "Python 3",
   "language": "python",
   "name": "python3"
  },
  "language_info": {
   "codemirror_mode": {
    "name": "ipython",
    "version": 3
   },
   "file_extension": ".py",
   "mimetype": "text/x-python",
   "name": "python",
   "nbconvert_exporter": "python",
   "pygments_lexer": "ipython3",
   "version": "3.6.2"
  }
 },
 "nbformat": 4,
 "nbformat_minor": 1
}
